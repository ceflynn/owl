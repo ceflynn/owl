{
 "cells": [
  {
   "cell_type": "code",
   "execution_count": 5,
   "metadata": {},
   "outputs": [],
   "source": [
    "from rdflib import Graph, Literal, URIRef, BNode, Namespace\n",
    "from rdflib.namespace import FOAF, XSD, DCTERMS, RDF, SDO\n",
    "\n",
    "mona_lisa = URIRef('https://www.wikidata.org/wiki/Q12418')\n",
    "davinci = URIRef('https://dbpedia.org/page/Leonardo_da_Vinci')\n",
    "#laqoconde = URIRef('')\n",
    "\n",
    "EX = Namespace('http://example.org')\n",
    "bob = EX['Bob']\n",
    "alice = EX['Alice']\n",
    "\n",
    "birth_date = Literal('1990-07-04', datatype=XSD['date'])\n",
    "title = Literal('Mona Lisa', lang='en')\n",
    "                                     "
   ]
  },
  {
   "cell_type": "code",
   "execution_count": 6,
   "metadata": {},
   "outputs": [
    {
     "data": {
      "text/plain": [
       "rdflib.term.Literal('Mona Lisa', lang='en')"
      ]
     },
     "execution_count": 6,
     "metadata": {},
     "output_type": "execute_result"
    }
   ],
   "source": [
    "title"
   ]
  },
  {
   "cell_type": "code",
   "execution_count": 13,
   "metadata": {},
   "outputs": [
    {
     "data": {
      "text/plain": [
       "<Graph identifier=Nb89d1eb703f3413c9c1ea14556202a86 (<class 'rdflib.graph.Graph'>)>"
      ]
     },
     "execution_count": 13,
     "metadata": {},
     "output_type": "execute_result"
    }
   ],
   "source": [
    "g = Graph()\n",
    "\n",
    "g.bind('ex', EX)\n",
    "g.bind('foaf', FOAF)\n",
    "g.bind('schema', SDO)\n",
    "g.bind('dcterms', DCTERMS)\n",
    "\n",
    "\n",
    "g.add((bob,RDF.type,FOAF.Person))\n",
    "g.add((bob,FOAF.knows, alice))\n",
    "g.add((bob, FOAF['topic_interest'],mona_lisa))\n",
    "g.add((mona_lisa, DCTERMS['creator'], davinci))\n",
    "g.add((mona_lisa, DCTERMS['title'],title))\n"
   ]
  },
  {
   "cell_type": "code",
   "execution_count": 14,
   "metadata": {},
   "outputs": [
    {
     "name": "stdout",
     "output_type": "stream",
     "text": [
      "@prefix dcterms: <http://purl.org/dc/terms/> .\n",
      "@prefix ex: <http://example.org> .\n",
      "@prefix foaf: <http://xmlns.com/foaf/0.1/> .\n",
      "\n",
      "ex:Bob a foaf:Person ;\n",
      "    foaf:knows ex:Alice ;\n",
      "    foaf:topic_interest <https://www.wikidata.org/wiki/Q12418> .\n",
      "\n",
      "<https://www.wikidata.org/wiki/Q12418> dcterms:creator <https://dbpedia.org/page/Leonardo_da_Vinci> ;\n",
      "    dcterms:title \"Mona Lisa\"@en .\n",
      "\n",
      "\n"
     ]
    }
   ],
   "source": [
    "print(g.serialize(format='ttl'))"
   ]
  },
  {
   "cell_type": "code",
   "execution_count": 15,
   "metadata": {},
   "outputs": [
    {
     "name": "stdout",
     "output_type": "stream",
     "text": [
      "http://www.w3.org/2002/07/owl#\n",
      "http://www.w3.org/1999/02/22-rdf-syntax-ns#\n",
      "http://www.w3.org/2000/01/rdf-schema#\n",
      "http://www.w3.org/2001/XMLSchema#\n",
      "http://www.w3.org/XML/1998/namespace\n",
      "http://example.org\n",
      "http://xmlns.com/foaf/0.1/\n",
      "https://schema.org/\n",
      "http://purl.org/dc/terms/\n"
     ]
    }
   ],
   "source": [
    "for prefix, ns in g.namespaces():\n",
    "    print(ns)"
   ]
  },
  {
   "cell_type": "code",
   "execution_count": 16,
   "metadata": {},
   "outputs": [
    {
     "name": "stderr",
     "output_type": "stream",
     "text": [
      "/Users/christopherflynn/opt/anaconda3/envs/cs-env/lib/python3.8/site-packages/IPython/core/interactiveshell.py:3417: UserWarning: Code: birthdate is not defined in namespace SDO\n",
      "  exec(code_obj, self.user_global_ns, self.user_ns)\n"
     ]
    },
    {
     "data": {
      "text/plain": [
       "<Graph identifier=Nb89d1eb703f3413c9c1ea14556202a86 (<class 'rdflib.graph.Graph'>)>"
      ]
     },
     "execution_count": 16,
     "metadata": {},
     "output_type": "execute_result"
    }
   ],
   "source": [
    "#replace literal value\n",
    "g.set((bob, SDO['birthdate'], Literal('1990-01-01', datatype=XSD.date)))\n",
    "g.set((mona_lisa, DCTERMS['title'], Literal('La Jaconde', lang='fr')))"
   ]
  },
  {
   "cell_type": "code",
   "execution_count": 17,
   "metadata": {},
   "outputs": [
    {
     "name": "stdout",
     "output_type": "stream",
     "text": [
      "@prefix dcterms: <http://purl.org/dc/terms/> .\n",
      "@prefix ex: <http://example.org> .\n",
      "@prefix foaf: <http://xmlns.com/foaf/0.1/> .\n",
      "@prefix schema: <https://schema.org/> .\n",
      "@prefix xsd: <http://www.w3.org/2001/XMLSchema#> .\n",
      "\n",
      "ex:Bob a foaf:Person ;\n",
      "    foaf:knows ex:Alice ;\n",
      "    foaf:topic_interest <https://www.wikidata.org/wiki/Q12418> ;\n",
      "    schema:birthdate \"1990-01-01\"^^xsd:date .\n",
      "\n",
      "<https://www.wikidata.org/wiki/Q12418> dcterms:creator <https://dbpedia.org/page/Leonardo_da_Vinci> ;\n",
      "    dcterms:title \"La Jaconde\"@fr .\n",
      "\n",
      "\n"
     ]
    }
   ],
   "source": [
    "print(g.serialize(format='ttl'))"
   ]
  },
  {
   "cell_type": "raw",
   "metadata": {},
   "source": [
    "#remove triples\n",
    "g.remove((lajoconde, None, None))"
   ]
  },
  {
   "cell_type": "code",
   "execution_count": 18,
   "metadata": {},
   "outputs": [
    {
     "name": "stdout",
     "output_type": "stream",
     "text": [
      "@prefix dcterms: <http://purl.org/dc/terms/> .\n",
      "@prefix ex: <http://example.org> .\n",
      "@prefix foaf: <http://xmlns.com/foaf/0.1/> .\n",
      "@prefix schema: <https://schema.org/> .\n",
      "@prefix xsd: <http://www.w3.org/2001/XMLSchema#> .\n",
      "\n",
      "ex:Bob a foaf:Person ;\n",
      "    foaf:knows ex:Alice ;\n",
      "    foaf:topic_interest <https://www.wikidata.org/wiki/Q12418> ;\n",
      "    schema:birthdate \"1990-01-01\"^^xsd:date .\n",
      "\n",
      "<https://www.wikidata.org/wiki/Q12418> dcterms:creator <https://dbpedia.org/page/Leonardo_da_Vinci> ;\n",
      "    dcterms:title \"La Jaconde\"@fr .\n",
      "\n",
      "\n"
     ]
    }
   ],
   "source": [
    "print(g.serialize(format='ttl'))"
   ]
  }
 ],
 "metadata": {
  "kernelspec": {
   "display_name": "cs-env",
   "language": "python",
   "name": "cs-env"
  },
  "language_info": {
   "codemirror_mode": {
    "name": "ipython",
    "version": 3
   },
   "file_extension": ".py",
   "mimetype": "text/x-python",
   "name": "python",
   "nbconvert_exporter": "python",
   "pygments_lexer": "ipython3",
   "version": "3.8.5"
  }
 },
 "nbformat": 4,
 "nbformat_minor": 4
}
